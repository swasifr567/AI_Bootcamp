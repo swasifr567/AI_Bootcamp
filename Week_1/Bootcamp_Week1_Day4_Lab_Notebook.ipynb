{
 "cells": [
  {
   "cell_type": "markdown",
   "id": "6c47edb1",
   "metadata": {},
   "source": [
    "# Week 1 - Day 4 Lab: Automation Scripting & Mini Project\n",
    "Today, you will practice writing structured Python scripts that automate data processing tasks using the same weather dataset.\n",
    "\n",
    "**Objective**: Build a script that loads, processes, and outputs summaries from the dataset."
   ]
  },
  {
   "cell_type": "markdown",
   "id": "58906346",
   "metadata": {},
   "source": [
    "## Step 1: Create Project Structure\n",
    "Create a new folder with the following structure:\n",
    "```\n",
    "weather_project/\n",
    "├── data/\n",
    "│   └── hourly_weather_10_days.csv\n",
    "├── scripts/\n",
    "│   ├── __init__.py\n",
    "│   └── summary.py\n",
    "├── output/\n",
    "│   └── results.txt\n",
    "└── main.py\n",
    "```\n"
   ]
  },
  {
   "cell_type": "markdown",
   "id": "ea53ef9c",
   "metadata": {},
   "source": [
    "## Step 2: Plan Your Script\n",
    "- `main.py` will be the entry point\n",
    "- `summary.py` will contain helper functions to:\n",
    "  - Load data\n",
    "  - Clean missing values\n",
    "  - Compute summaries (mean, min, max)\n",
    "  - Save results"
   ]
  },
  {
   "cell_type": "markdown",
   "id": "cf128518",
   "metadata": {},
   "source": [
    "## Step 3: Write Summary Functions\n",
    "Create and test the following functions in `summary.py`:\n",
    "- `load_data(filepath)`\n",
    "- `clean_data(df)`\n",
    "- `compute_summary(df)` → returns dictionary\n",
    "- `save_summary(summary_dict, output_path)`"
   ]
  },
  {
   "cell_type": "code",
   "execution_count": null,
   "id": "9f43d89c",
   "metadata": {},
   "outputs": [],
   "source": [
    "# Placeholder example: summary.py\n",
    "\n",
    "def load_data(filepath):\n",
    "    # Load CSV with Pandas\n",
    "    pass\n",
    "\n",
    "def clean_data(df):\n",
    "    # Fill or drop missing values\n",
    "    pass\n",
    "\n",
    "def compute_summary(df):\n",
    "    # Return dictionary of stats (mean, min, max)\n",
    "    pass\n",
    "\n",
    "def save_summary(summary, output_path):\n",
    "    # Write summary dict to a text file\n",
    "    pass"
   ]
  },
  {
   "cell_type": "markdown",
   "id": "69a04bd2",
   "metadata": {},
   "source": [
    "## Step 4: Use `main.py` to Control Execution\n",
    "- Use `argparse` to pass file paths via command line\n",
    "- Call your functions in a logical order"
   ]
  },
  {
   "cell_type": "code",
   "execution_count": null,
   "id": "080936af",
   "metadata": {},
   "outputs": [],
   "source": [
    "# Placeholder example: main.py\n",
    "\n",
    "import argparse\n",
    "from scripts import summary\n",
    "\n",
    "parser = argparse.ArgumentParser()\n",
    "parser.add_argument('--input', type=str, required=True)\n",
    "parser.add_argument('--output', type=str, required=True)\n",
    "args = parser.parse_args()\n",
    "\n",
    "# Workflow\n",
    "# 1. Load data\n",
    "# 2. Clean data\n",
    "# 3. Compute summary\n",
    "# 4. Save output\n"
   ]
  },
  {
   "cell_type": "markdown",
   "id": "e1006f99",
   "metadata": {},
   "source": [
    "## ✅ Step 5: Run from Command Line\n",
    "Example command:\n",
    "```bash\n",
    "python main.py --input data/hourly_weather_10_days.csv --output output/results.txt\n",
    "```"
   ]
  },
  {
   "cell_type": "markdown",
   "id": "d1f624b6",
   "metadata": {},
   "source": [
    "## Bonus Tasks\n",
    "- Add logging (e.g., `print()` or `logging` module)\n",
    "- Include timestamp in output filename\n",
    "- Accept extra arguments (e.g., column to summarize)"
   ]
  },
  {
   "cell_type": "markdown",
   "id": "56fcadf2",
   "metadata": {},
   "source": [
    "## Final Submission Checklist\n",
    "- [ ] Folder structured correctly\n",
    "- [ ] Script runs end-to-end from CLI\n",
    "- [ ] Code is modular and commented\n",
    "- [ ] Output file is saved with correct values\n",
    "- [ ] Bonus features (optional)"
   ]
  }
 ],
 "metadata": {
  "kernelspec": {
   "display_name": "Bootcamp",
   "language": "python",
   "name": "python3"
  },
  "language_info": {
   "name": "python",
   "version": "3.13.2"
  }
 },
 "nbformat": 4,
 "nbformat_minor": 5
}
