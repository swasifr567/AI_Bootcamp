{
  "cells": [
    {
      "cell_type": "markdown",
      "id": "ae5523c3",
      "metadata": {
        "id": "ae5523c3"
      },
      "source": [
        "# Week 1 - Day 3 Lab: Data & Matrix Manipulation\n",
        "In this lab, you'll work with a realistic weather dataset. You'll use **Pandas** to explore and clean the data, and **NumPy** to perform matrix operations.\n",
        "\n",
        "**Dataset:** `hourly_weather_10_days.csv` (10 days of hourly weather data)"
      ]
    },
    {
      "cell_type": "markdown",
      "id": "10e89261",
      "metadata": {
        "id": "10e89261"
      },
      "source": [
        "## Step 1: Load the Data\n",
        "- Use Pandas to load the CSV file\n",
        "- Display the first few rows\n",
        "- Check the number of rows and columns"
      ]
    },
    {
      "cell_type": "code",
      "execution_count": 1,
      "id": "9b7002fd",
      "metadata": {
        "id": "9b7002fd"
      },
      "outputs": [
        {
          "name": "stdout",
          "output_type": "stream",
          "text": [
            "             timestamp  temperature_C  humidity_%  wind_speed_kmph  \\\n",
            "0  2023-03-01 00:00:00           16.6        74.4              5.7   \n",
            "1  2023-03-01 01:00:00           16.2        78.5              5.0   \n",
            "2  2023-03-01 02:00:00           15.3        73.3              4.7   \n",
            "3  2023-03-01 03:00:00           15.8        72.4              1.3   \n",
            "4  2023-03-01 04:00:00           20.9        70.6              6.8   \n",
            "\n",
            "   pressure_hPa  visibility_km  \n",
            "0        1012.5            9.5  \n",
            "1        1012.1           10.3  \n",
            "2           NaN           11.1  \n",
            "3        1005.0            8.9  \n",
            "4        1016.3            9.8  \n",
            "The dataset contains 240 rows.\n",
            "The dataset contains 6 Labels.\n"
          ]
        }
      ],
      "source": [
        "# TODO: Load the data into a DataFrame\n",
        "import pandas as pd\n",
        "\n",
        "# Replace the file path if needed\n",
        "df = pd.read_csv('hourly_weather_10_days.csv')\n",
        "print(df.head())\n",
        "\n",
        "count_rows = df.shape[0]\n",
        "print(f'The dataset contains {count_rows} rows.')\n",
        "count_cols = df.shape[1]\n",
        "print(f'The dataset contains {count_cols} Labels.')"
      ]
    },
    {
      "cell_type": "markdown",
      "id": "52e816b2",
      "metadata": {
        "id": "52e816b2"
      },
      "source": [
        "## Step 2: Basic Exploration\n",
        "- Check column names and data types\n",
        "- Display basic statistics using `.describe()`\n",
        "- Count missing values in each column"
      ]
    },
    {
      "cell_type": "code",
      "execution_count": 2,
      "id": "6b6fe363",
      "metadata": {
        "id": "6b6fe363"
      },
      "outputs": [
        {
          "name": "stdout",
          "output_type": "stream",
          "text": [
            "<class 'pandas.core.frame.DataFrame'>\n",
            "RangeIndex: 240 entries, 0 to 239\n",
            "Data columns (total 6 columns):\n",
            " #   Column           Non-Null Count  Dtype  \n",
            "---  ------           --------------  -----  \n",
            " 0   timestamp        240 non-null    object \n",
            " 1   temperature_C    228 non-null    float64\n",
            " 2   humidity_%       224 non-null    float64\n",
            " 3   wind_speed_kmph  226 non-null    float64\n",
            " 4   pressure_hPa     223 non-null    float64\n",
            " 5   visibility_km    228 non-null    float64\n",
            "dtypes: float64(5), object(1)\n",
            "memory usage: 11.4+ KB\n",
            "None\n",
            "       temperature_C  humidity_%  wind_speed_kmph  pressure_hPa  visibility_km\n",
            "count     228.000000  224.000000       226.000000    223.000000     228.000000\n",
            "mean       21.315789   66.795982        10.105310   1011.884753       9.989474\n",
            "std         3.421237    8.190300         3.940668      5.187080       1.022166\n",
            "min        11.500000   47.800000         1.300000    998.100000       6.800000\n",
            "25%        18.700000   61.075000         6.625000   1008.900000       9.275000\n",
            "50%        21.900000   66.300000         9.800000   1012.100000      10.000000\n",
            "75%        23.925000   72.725000        13.500000   1015.100000      10.700000\n",
            "max        28.700000   88.100000        17.800000   1027.000000      12.600000\n",
            "timestamp           0\n",
            "temperature_C      12\n",
            "humidity_%         16\n",
            "wind_speed_kmph    14\n",
            "pressure_hPa       17\n",
            "visibility_km      12\n",
            "dtype: int64\n"
          ]
        }
      ],
      "source": [
        "# TODO: Explore the DataFrame\n",
        "print(df.info())\n",
        "print(df.describe())\n",
        "\n",
        "print(df.isna().sum())"
      ]
    },
    {
      "cell_type": "markdown",
      "id": "b73651ed",
      "metadata": {
        "id": "b73651ed"
      },
      "source": [
        "## Step 3: Handle Missing Values\n",
        "- Drop or fill missing values\n",
        "- Justify your approach (e.g., fill with mean, forward fill, etc.)"
      ]
    },
    {
      "cell_type": "code",
      "execution_count": 3,
      "id": "2ed7fb33",
      "metadata": {
        "id": "2ed7fb33"
      },
      "outputs": [
        {
          "name": "stdout",
          "output_type": "stream",
          "text": [
            "timestamp           0\n",
            "temperature_C      12\n",
            "humidity_%         16\n",
            "wind_speed_kmph    14\n",
            "pressure_hPa       17\n",
            "visibility_km      12\n",
            "dtype: int64\n",
            "timestamp          0\n",
            "temperature_C      0\n",
            "humidity_%         0\n",
            "wind_speed_kmph    0\n",
            "pressure_hPa       0\n",
            "visibility_km      0\n",
            "dtype: int64\n"
          ]
        }
      ],
      "source": [
        "# TODO: Fill missing values\n",
        "# Example: df['column'] = df['column'].fillna(df['column'].mean())\n",
        "# Fill in your logic here\n",
        "# df[\"temperature_C\"]=df[\"temperature_C\"].fillna(df[\"temperature_C\"].mean())\n",
        "# df[\"humidity_%\"]=df[\"humidity_%\"].fillna(df[\"humidity_%\"].mean())\n",
        "# df[\"wind_speed_kmph\"]=df[\"wind_speed_kmph\"].fillna(df[\"wind_speed_kmph\"].mean())\n",
        "# df['pressure_hPa']=df['pressure_hPa'].fillna(df['pressure_hPa'].mean())\n",
        "# df['visibility_km']=df['visibility_km'].fillna(df['visibility_km'].mean())\n",
        "# df['visibility_kmp']=df['visibility_kmp'].fillna(df['visibility_kmp'].mean())\n",
        "print(df.isna().sum())\n",
        "\n",
        "df = df.fillna(df.mean(numeric_only=True))\n",
        "\n",
        "print(df.isna().sum())\n"
      ]
    },
    {
      "cell_type": "markdown",
      "id": "4e1d5c82",
      "metadata": {
        "id": "4e1d5c82"
      },
      "source": [
        "## Step 4: Data Analysis\n",
        "- Calculate daily average temperature\n",
        "- Find max, min, mean for each metric\n",
        "- Which hour of the day is the most humid on average?"
      ]
    },
    {
      "cell_type": "code",
      "execution_count": 6,
      "id": "a9860be6",
      "metadata": {
        "id": "a9860be6"
      },
      "outputs": [
        {
          "name": "stdout",
          "output_type": "stream",
          "text": [
            "days\n",
            "1     21.263158\n",
            "2     21.258991\n",
            "3     21.304825\n",
            "4     21.425658\n",
            "5     21.529825\n",
            "6     21.858333\n",
            "7     21.179825\n",
            "8     20.947807\n",
            "9     20.792325\n",
            "10    21.597149\n",
            "Name: temperature_C, dtype: float64\n",
            "      temperature_C  humidity_%  wind_speed_kmph  pressure_hPa  visibility_km\n",
            "max       28.700000   88.100000         17.80000   1027.000000      12.600000\n",
            "min       11.500000   47.800000          1.30000    998.100000       6.800000\n",
            "mean      21.315789   66.795982         10.10531   1011.884753       9.989474\n",
            "Most humid hour on average: 1:00\n"
          ]
        }
      ],
      "source": [
        "# TODO: Perform analysis\n",
        "# Use groupby, aggregation, and filtering functions\n",
        "# Placeholder example:\n",
        "# df['timestamp'] = pd.to_datetime(df['timestamp'])\n",
        "# df['hour'] = df['timestamp'].dt.hour\n",
        "# avg_humidity_by_hour = df.groupby('hour')['humidity_%'].mean()\n",
        "\n",
        "#Calculate the average temperature for each day\n",
        "df['timestamp']=pd.to_datetime(df['timestamp'])\n",
        "df['days']=df['timestamp'].dt.day\n",
        "avg_humidity_by_day = df.groupby('days')['temperature_C'].mean()\n",
        "print(avg_humidity_by_day)\n",
        "\n",
        "# Calculate the average humidity for each day\n",
        "metrics_summary = df[['temperature_C', 'humidity_%', 'wind_speed_kmph', 'pressure_hPa','visibility_km']].agg(['max', 'min', 'mean'])\n",
        "print(metrics_summary)\n",
        "\n",
        "# In which hour of the day is the humidity the highest on average?\n",
        "df['hour'] = pd.to_datetime(df['timestamp']).dt.hour\n",
        "avg_humidity_by_hour = df.groupby('hour')['humidity_%'].mean()\n",
        "most_humid_hour = avg_humidity_by_hour.idxmax()\n",
        "print(f\"Most humid hour on average: {most_humid_hour}:00\")\n",
        "\n",
        "\n"
      ]
    },
    {
      "cell_type": "code",
      "execution_count": null,
      "id": "0360c49f",
      "metadata": {},
      "outputs": [],
      "source": []
    },
    {
      "cell_type": "markdown",
      "id": "36119c0c",
      "metadata": {
        "id": "36119c0c"
      },
      "source": [
        "## Step 5: NumPy Matrix Exercises\n",
        "Convert relevant DataFrame columns into NumPy arrays and perform matrix operations."
      ]
    },
    {
      "cell_type": "code",
      "execution_count": 7,
      "id": "04e09e3d",
      "metadata": {
        "id": "04e09e3d"
      },
      "outputs": [],
      "source": [
        "# TODO: Extract temperature and wind_speed as NumPy arrays\n",
        "import numpy as np\n",
        "\n",
        "temp = df['temperature_C'].to_numpy()\n",
        "wind = df['wind_speed_kmph'].to_numpy()"
      ]
    },
    {
      "cell_type": "markdown",
      "id": "22aff3f0",
      "metadata": {
        "id": "22aff3f0"
      },
      "source": [
        "### a) Reshape into matrix form\n",
        "- Assume each row is a day\n",
        "- Reshape temperature into a (10, 24) matrix\n",
        "- Calculate daily min, max, and mean using axis-based operations"
      ]
    },
    {
      "cell_type": "code",
      "execution_count": null,
      "id": "3d90f886",
      "metadata": {
        "id": "3d90f886"
      },
      "outputs": [
        {
          "name": "stdout",
          "output_type": "stream",
          "text": [
            "Maximum Temperature in a day:  [28.2 28.7 25.7 27.1 24.9 26.2 25.9 26.  27.1 28.5]\n",
            "Minimum Temperature in a day:  [14.7 15.7 13.6 15.9 12.4 15.5 15.3 13.5 14.3 11.5]\n",
            "Average Temperature in a day:  [21.3 21.3 21.3 21.4 21.5 21.9 21.2 20.9 20.8 21.6]\n"
          ]
        }
      ],
      "source": [
        "# TODO: Reshape and aggregate\n",
        "# Hint: temp_matrix = temp.reshape((10, 24))\n",
        "# Write functions to find min, max, mean across rows\n",
        "\n",
        "shaped_temp = temp.reshape((10,24))\n",
        "#print(shaped_temp)\n",
        "\n",
        "max_temp_row = np.max(shaped_temp, axis=1)\n",
        "print(\"Maximum Temperature in a day: \",max_temp_row)\n",
        "min_temp_row = np.min(shaped_temp, axis=1)\n",
        "print(\"Minimum Temperature in a day: \",min_temp_row)\n",
        "mean_temp_row = np.round(np.mean(shaped_temp, axis=1), 1)\n",
        "print(\"Average Temperature in a day: \",mean_temp_row)"
      ]
    },
    {
      "cell_type": "markdown",
      "id": "fc787766",
      "metadata": {
        "id": "fc787766"
      },
      "source": [
        "### b) Normalize the temperature matrix\n",
        "- Subtract the mean and divide by std deviation\n",
        "- Do it manually using NumPy functions"
      ]
    },
    {
      "cell_type": "code",
      "execution_count": 24,
      "id": "80f02a5a",
      "metadata": {
        "id": "80f02a5a"
      },
      "outputs": [
        {
          "name": "stdout",
          "output_type": "stream",
          "text": [
            "Normalized Temperature Matrix:  [[-1.27475461 -1.3841015  -1.63013202 -1.4934484  -0.09927547 -0.1266122\n",
            "   0.42012229  0.33811211 -0.0172653   1.89630539  0.01438775  1.18555056\n",
            "   1.13087711  0.58414263  1.73228504  0.69348953  0.20142849  0.6661528\n",
            "   0.50213246  0.22876522 -0.83736702 -0.50932633 -0.42731616 -1.79415237]\n",
            " [-1.7532813  -1.81871456 -1.1970986  -0.41189949  0.24243309 -0.01929994\n",
            "   0.4714495   0.07884995  0.76589917  2.43444727 -0.24831635  1.25664861\n",
            "   0.27514972  1.06034883  0.43873287  0.20971646  0.86404905  0.01858247\n",
            "   0.96219894  0.24243309 -0.44461612 -0.80449905 -1.55698153 -1.06623208]\n",
            " [-2.26136292 -1.64501376 -0.82321488 -1.58631384  1.28998223 -0.11881585\n",
            "  -0.14816581 -0.17751577  0.29208359  1.28998223  1.02583259 -0.03076597\n",
            "   1.23128231  0.17468375  0.32143355  0.99648263  0.90843275  0.0032182\n",
            "   0.58558319  0.90843275  0.40948343 -0.11881585 -0.79386492 -1.73306364]\n",
            " [-1.50871823 -0.87019625 -1.12560504 -1.73220093  0.02373453  0.21529113\n",
            "   1.81159609  0.72610872  0.15143893  0.88573922  1.7158178   0.94959141\n",
            "  -0.0350767   1.3646307   0.82188702 -0.61478745  0.50262602  0.72610872\n",
            "  -0.51900915 -0.10396986 -0.87019625 -0.19974816 -0.55093525 -1.76412703]\n",
            " [-0.61803089 -3.08363637 -0.95578506 -0.88823423 -0.11139962 -0.17895046\n",
            "  -0.6518063  -0.34782755  1.07073999 -0.07229124  0.59788415  0.53033331\n",
            "   0.42900706  1.00318916  1.13829083  1.07073999  0.86808749  0.32768081\n",
            "   0.9018629   0.59788415  0.22635455  0.80053665 -1.597518   -1.05711131]\n",
            " [-1.29523567 -1.07182746 -0.24202556  0.01329811 -1.26332021 -1.67822117\n",
            "   0.46011452  0.93884639  0.20479086  1.32183189  1.13033914  0.7792691\n",
            "   1.3856628  -0.33777193 -0.17819464  0.26862177  0.90693093  0.52394544\n",
            "   1.19417005  0.42819906  0.65160727 -2.0292912  -0.65692651 -1.45481296]\n",
            " [-1.69000777 -1.12455922 -1.0303178   0.04271176 -0.43345544  0.69744165\n",
            "  -0.40204163  1.41995924  0.60320023  1.48278686  1.01157973  0.41471738\n",
            "   1.13723497  1.04299354  0.94875212  0.54037261 -0.37062782 -0.15073117\n",
            "  -0.21355878  0.22623453  0.63461404 -1.815663   -1.84707681 -1.12455922]\n",
            " [-2.1633569   0.10688749 -1.03052788 -1.78574723  0.07325424 -0.71101201\n",
            "   0.18944183  0.71228599  1.46750534  0.39277012  0.10688749  1.14798946\n",
            "   0.79942669  0.10688749  1.06084877  0.77037979  1.32227085  1.00275497\n",
            "   0.45086391  0.16039493 -0.56577752 -1.05957478 -1.66955964 -0.88529339]\n",
            " [-1.85933579 -1.00016627 -1.487029    0.20267106 -0.85697135  0.1167541\n",
            "  -0.0550798   0.14539309  0.57497785  0.1167541   1.23367448  1.40550838\n",
            "   1.80645416  1.2050355   0.14991503  0.8327287   0.20267106  1.00456261\n",
            "   0.80408972 -0.62785948 -0.34146964 -1.74477986 -0.51330354 -1.3151951 ]\n",
            " [-1.08346254 -1.47268233 -1.33367526 -1.1946682  -0.44403003  0.05639541\n",
            "   0.47341661  0.77923216  0.69582792  1.91909011  1.16845195  1.02944488\n",
            "  -0.07822196  0.58462227  0.66802651  0.30660813  0.72362933  0.27880672\n",
            "  -0.11041307  0.50121803 -0.3884272  -0.07822196 -0.19381731 -2.80715018]]\n",
            "Minimum Temperature:  -3.0836363686110224\n",
            "Maximum Temperature :  2.4344472671331694\n"
          ]
        }
      ],
      "source": [
        "# TODO: Normalize temp_matrix\n",
        "# Placeholder for function: def normalize(matrix):\n",
        "# return ...\n",
        "\n",
        "# # Apply it to temp_matrix\n",
        "# Normalize the temperature matrix\n",
        "# - Subtract the mean and divide by std deviation\n",
        "# - Do it manually using NumPy functions\n",
        "def temp_matrix(matrix):\n",
        "    mean = np.mean(matrix, axis=1)\n",
        "    std = np.std(matrix, axis=1)\n",
        "    normalized_matrix = (matrix - mean[:, np.newaxis]) / std[:, np.newaxis]\n",
        "    return normalized_matrix\n",
        "normalized_temp = temp_matrix(shaped_temp)\n",
        "print(\"Normalized Temperature Matrix: \",normalized_temp)\n",
        "\n",
        "print(\"Minimum Temperature: \",normalized_temp.min())\n",
        "print(\"Maximum Temperature : \",normalized_temp.max())\n",
        "    "
      ]
    },
    {
      "cell_type": "markdown",
      "id": "64b192d5",
      "metadata": {
        "id": "64b192d5"
      },
      "source": [
        "### c) Apply custom mask/filter\n",
        "- Create a mask for wind speed > 15 kmph\n",
        "- Use it to extract high-wind readings"
      ]
    },
    {
      "cell_type": "code",
      "execution_count": null,
      "id": "09aa193d",
      "metadata": {
        "id": "09aa193d"
      },
      "outputs": [
        {
          "name": "stdout",
          "output_type": "stream",
          "text": [
            "High Wind Speeds:  [17.6 16.  16.5 16.3 16.7 15.8 17.8 15.1 16.3 15.2 17.  15.9 15.6 15.8\n",
            " 15.4 15.6 16.3 15.3 16.2 16.9 15.3 15.2 15.5 17.4 17.4 15.4 15.4 16.5\n",
            " 17.  15.7]\n"
          ]
        }
      ],
      "source": [
        "# TODO: Create boolean mask and filter wind speeds\n",
        "# mask = wind > 15\n",
        "# high_wind = wind[mask]\n",
        "\n",
        "boolean_mask = wind > 15\n",
        "high_wind = wind[boolean_mask]\n",
        "print(\"High Wind Speeds: \",high_wind)"
      ]
    },
    {
      "cell_type": "markdown",
      "id": "6a7ea5ad",
      "metadata": {
        "id": "6a7ea5ad"
      },
      "source": [
        "## Final Challenge: Write Your Own Function\n",
        "Write a function `daily_summary(matrix)` that takes a NumPy matrix of shape (10, 24) and returns a summary dictionary for each day."
      ]
    },
    {
      "cell_type": "code",
      "execution_count": null,
      "id": "96388bd6",
      "metadata": {
        "id": "96388bd6"
      },
      "outputs": [
        {
          "data": {
            "text/plain": [
              "[{'day': 1,\n",
              "  'max_temp': np.float64(28.2),\n",
              "  'min_temp': np.float64(14.7),\n",
              "  'mean_temp': np.float64(21.263157894736846)},\n",
              " {'day': 2,\n",
              "  'max_temp': np.float64(28.7),\n",
              "  'min_temp': np.float64(15.7),\n",
              "  'mean_temp': np.float64(21.258991228070176)},\n",
              " {'day': 3,\n",
              "  'max_temp': np.float64(25.7),\n",
              "  'min_temp': np.float64(13.6),\n",
              "  'mean_temp': np.float64(21.304824561403507)},\n",
              " {'day': 4,\n",
              "  'max_temp': np.float64(27.1),\n",
              "  'min_temp': np.float64(15.9),\n",
              "  'mean_temp': np.float64(21.425657894736844)},\n",
              " {'day': 5,\n",
              "  'max_temp': np.float64(24.9),\n",
              "  'min_temp': np.float64(12.4),\n",
              "  'mean_temp': np.float64(21.52982456140351)},\n",
              " {'day': 6,\n",
              "  'max_temp': np.float64(26.2),\n",
              "  'min_temp': np.float64(15.5),\n",
              "  'mean_temp': np.float64(21.858333333333334)},\n",
              " {'day': 7,\n",
              "  'max_temp': np.float64(25.9),\n",
              "  'min_temp': np.float64(15.3),\n",
              "  'mean_temp': np.float64(21.17982456140351)},\n",
              " {'day': 8,\n",
              "  'max_temp': np.float64(26.0),\n",
              "  'min_temp': np.float64(13.5),\n",
              "  'mean_temp': np.float64(20.947807017543862)},\n",
              " {'day': 9,\n",
              "  'max_temp': np.float64(27.1),\n",
              "  'min_temp': np.float64(14.3),\n",
              "  'mean_temp': np.float64(20.792324561403507)},\n",
              " {'day': 10,\n",
              "  'max_temp': np.float64(28.5),\n",
              "  'min_temp': np.float64(11.5),\n",
              "  'mean_temp': np.float64(21.59714912280702)}]"
            ]
          },
          "execution_count": 30,
          "metadata": {},
          "output_type": "execute_result"
        }
      ],
      "source": [
        "# TODO: Write and test your function\n",
        "def daily_summary(matrix):\n",
        "    # return list of dicts with min, max, mean\n",
        "    max_temp = np.max(matrix, axis=1)\n",
        "    min_temp = np.min(matrix, axis=1)\n",
        "    mean_temp = np.mean(matrix, axis=1)\n",
        "    summary = []\n",
        "    for i in range(len(max_temp)):\n",
        "        summary.append({\n",
        "            'day': i + 1,\n",
        "            'max_temp': max_temp[i],\n",
        "            'min_temp': min_temp[i],\n",
        "            'mean_temp': mean_temp[i]\n",
        "        })\n",
        "    return summary\n",
        "\n",
        "# Call the function with the reshaped temperature matrix\n",
        "daily_summary(shaped_temp)\n",
        "\n"
      ]
    },
    {
      "cell_type": "markdown",
      "id": "f9e64f53",
      "metadata": {
        "id": "f9e64f53"
      },
      "source": [
        "## ✅ Submit your notebook once complete.\n",
        "- Add comments where necessary"
      ]
    }
  ],
  "metadata": {
    "colab": {
      "provenance": []
    },
    "kernelspec": {
      "display_name": "Bootcamp",
      "language": "python",
      "name": "python3"
    },
    "language_info": {
      "codemirror_mode": {
        "name": "ipython",
        "version": 3
      },
      "file_extension": ".py",
      "mimetype": "text/x-python",
      "name": "python",
      "nbconvert_exporter": "python",
      "pygments_lexer": "ipython3",
      "version": "3.13.2"
    }
  },
  "nbformat": 4,
  "nbformat_minor": 5
}
