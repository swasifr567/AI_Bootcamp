{
 "cells": [
  {
   "cell_type": "markdown",
   "id": "b7784241",
   "metadata": {},
   "source": [
    "# 💻 Bootcamp Week 1 - Day 1 Lab\n",
    "### Python Fundamentals & Data Structures\n",
    "Welcome to the Day 1 lab session! This lab will reinforce your understanding of core Python syntax and data structures. Complete each section step by step."
   ]
  },
  {
   "cell_type": "markdown",
   "id": "74936675",
   "metadata": {},
   "source": [
    "## 🔸 Step 1: Variables & Data Types\n",
    "Create variables of different types and observe their behavior."
   ]
  },
  {
   "cell_type": "code",
   "execution_count": 1,
   "id": "944dc52a",
   "metadata": {},
   "outputs": [],
   "source": [
    "# TODO: Define a string, integer, float, and boolean\n",
    "# Hint: Use type() to verify the type of each variable\n",
    "name = ''  # e.g., 'Alice'\n",
    "age = 0    # e.g., 25\n",
    "height = 0.0  # e.g., 5.7\n",
    "is_student = False\n",
    "\n",
    "# Print each variable and its type"
   ]
  },
  {
   "cell_type": "markdown",
   "id": "e4bf65c8",
   "metadata": {},
   "source": [
    "## 🔸 Step 2: Conditional Statements\n",
    "Write a simple program to evaluate a student's grade."
   ]
  },
  {
   "cell_type": "code",
   "execution_count": 3,
   "id": "465bb020",
   "metadata": {},
   "outputs": [],
   "source": [
    "# TODO: Ask user to enter a score (0-100) and print the grade\n",
    "# Hint: Use if-elif-else ladder\n",
    "score = int(input(\"Enter your score: \"))\n",
    "# Add grading logic here"
   ]
  },
  {
   "cell_type": "markdown",
   "id": "7075f45d",
   "metadata": {},
   "source": [
    "## 🔸 Step 3: Loops & Pattern Printing\n",
    "Use loops to generate simple patterns."
   ]
  },
  {
   "cell_type": "code",
   "execution_count": 16,
   "id": "2c08279d",
   "metadata": {},
   "outputs": [
    {
     "name": "stdout",
     "output_type": "stream",
     "text": [
      "*\n",
      "**\n",
      "***\n",
      "****\n",
      "*****\n",
      "\n",
      "Right-aligned triangle:\n",
      "    *\n",
      "   **\n",
      "  ***\n",
      " ****\n",
      "*****\n"
     ]
    }
   ],
   "source": [
    "#Print a right-angled triangle using '*'\n",
    "n=5\n",
    "for i in range(n):\n",
    "    for j in range(i + 1):\n",
    "        print('*', end='')\n",
    "    print()\n",
    "\n",
    "# Print a right-aligned triangle\n",
    "print(\"\\nRight-aligned triangle:\")\n",
    "for i in range(n):\n",
    "    # Print spaces first\n",
    "    for j in range(n - i - 1):\n",
    "        print(' ', end='')\n",
    "    # Then print stars\n",
    "    for j in range(i + 1):\n",
    "        print('*', end='')\n",
    "    print()"
   ]
  },
  {
   "cell_type": "markdown",
   "id": "45651611",
   "metadata": {},
   "source": [
    "## 🔸 Step 4: Lists & Comprehensions\n",
    "Create and manipulate lists using Pythonic techniques."
   ]
  },
  {
   "cell_type": "code",
   "execution_count": null,
   "id": "8c5b360d",
   "metadata": {},
   "outputs": [],
   "source": [
    "# TODO: Create a list of squares from 1 to 10 using list comprehension\n",
    "squares = [ ]  # Fill this\n",
    "print(squares)\n",
    "\n"
   ]
  },
  {
   "cell_type": "markdown",
   "id": "2a041512",
   "metadata": {},
   "source": [
    "## 🔸 Step 5: Tuples, Sets, and Dictionaries\n",
    "Explore basic operations on key Python data structures."
   ]
  },
  {
   "cell_type": "code",
   "execution_count": null,
   "id": "cc192a5b",
   "metadata": {},
   "outputs": [],
   "source": [
    "# TODO: Create a tuple of 5 items, add values to a set, and use a dictionary\n",
    "sample_tuple = ( )  # Fill tuple\n",
    "sample_set = set()\n",
    "sample_set.add('apple')\n",
    "sample_set.add('banana')\n",
    "sample_dict = {'name': 'Alice', 'age': 25}"
   ]
  },
  {
   "cell_type": "markdown",
   "id": "ada94d6a",
   "metadata": {},
   "source": [
    "## 🔸 Step 6: Challenge - Word Frequency Counter\n",
    "Write a Python program that counts the frequency of each word in a string."
   ]
  },
  {
   "cell_type": "code",
   "execution_count": null,
   "id": "29bbc4b6",
   "metadata": {},
   "outputs": [],
   "source": [
    "# TODO: Word frequency counter using dictionary\n",
    "text = \"Python is simple yet powerful. Python is easy to learn.\"\n",
    "# Split text and count frequency\n",
    "word_freq = {}\n",
    "# Fill the logic here to count words\n",
    "print(word_freq)"
   ]
  },
  {
   "cell_type": "markdown",
   "id": "cd87d9b4",
   "metadata": {},
   "source": [
    "## 🔸 Step 7 (Optional): List Mutability in Functions\n",
    "Pass a list to a function and modify it. Observe the changes."
   ]
  },
  {
   "cell_type": "code",
   "execution_count": null,
   "id": "f038fced",
   "metadata": {},
   "outputs": [],
   "source": [
    "# TODO: Define a function that appends items to a list and observe mutability\n",
    "def modify_list(my_list):\n",
    "    my_list.append(\"new item\")\n",
    "\n",
    "lst = [\"item1\", \"item2\"]\n",
    "modify_list(lst)\n",
    "print(lst)"
   ]
  },
  {
   "cell_type": "code",
   "execution_count": null,
   "id": "28c457ab",
   "metadata": {},
   "outputs": [],
   "source": []
  }
 ],
 "metadata": {
  "kernelspec": {
   "display_name": "Bootcamp",
   "language": "python",
   "name": "python3"
  },
  "language_info": {
   "codemirror_mode": {
    "name": "ipython",
    "version": 3
   },
   "file_extension": ".py",
   "mimetype": "text/x-python",
   "name": "python",
   "nbconvert_exporter": "python",
   "pygments_lexer": "ipython3",
   "version": "3.13.2"
  }
 },
 "nbformat": 4,
 "nbformat_minor": 5
}
